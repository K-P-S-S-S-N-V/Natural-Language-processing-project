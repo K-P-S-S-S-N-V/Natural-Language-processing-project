{
  "nbformat": 4,
  "nbformat_minor": 0,
  "metadata": {
    "colab": {
      "provenance": []
    },
    "kernelspec": {
      "name": "python3",
      "display_name": "Python 3"
    },
    "language_info": {
      "name": "python"
    }
  },
  "cells": [
    {
      "cell_type": "markdown",
      "source": [
        "#Task2"
      ],
      "metadata": {
        "id": "OFY668wHf0Br"
      }
    },
    {
      "cell_type": "code",
      "execution_count": 1,
      "metadata": {
        "colab": {
          "base_uri": "https://localhost:8080/"
        },
        "id": "6X7sWLqdffn0",
        "outputId": "4adcf428-cacf-4ee3-c45a-8004e5f50213"
      },
      "outputs": [
        {
          "output_type": "stream",
          "name": "stdout",
          "text": [
            "Looking in indexes: https://pypi.org/simple, https://us-python.pkg.dev/colab-wheels/public/simple/\n",
            "Collecting pyspellchecker\n",
            "  Downloading pyspellchecker-0.7.1-py3-none-any.whl (2.5 MB)\n",
            "\u001b[K     |████████████████████████████████| 2.5 MB 5.8 MB/s \n",
            "\u001b[?25hInstalling collected packages: pyspellchecker\n",
            "Successfully installed pyspellchecker-0.7.1\n"
          ]
        }
      ],
      "source": [
        "!pip install pyspellchecker"
      ]
    },
    {
      "cell_type": "code",
      "source": [
        "from textblob import TextBlob\n",
        "from spellchecker import SpellChecker\n",
        "import re\n",
        "file1=\"spell check data.txt\"\n",
        "with open(file1,\"r+\") as filehandle:\n",
        "    filecontent=filehandle.read()\n",
        "    print(\"Original Text:\\n\", str(filecontent))\n",
        "    \n",
        "    b = TextBlob(filecontent)\n",
        "    print(\"Corrected text:\\n\", str(b.correct()))"
      ],
      "metadata": {
        "colab": {
          "base_uri": "https://localhost:8080/"
        },
        "id": "5edShK80yVUS",
        "outputId": "e664a4ea-f4d2-4367-87ea-91dd5372ab10"
      },
      "execution_count": 3,
      "outputs": [
        {
          "output_type": "stream",
          "name": "stdout",
          "text": [
            "Original Text:\n",
            " The paragrph below contian spelling errors, referensing mistakes slang, poor sentence structue: it is written in the frst person,etc, Edit the paragrpg to an acedamicelly suitable piese and email it to your tutor. Ellis Green says that wator pollution is a major probelm in the world we live in today(green, 2020,9). She says that we need to limet the amout of trash that we threw into the ocean and rivors becouse it is damaging the envoronmeant and the plastic in te wator is harming the sea animals(Green 9,2020). To make the number of pollutoin less.we should throw out rubbish in the bin and on the ground, clen up the beaches and use plastic stuff cox it ends up choking the sea turtles. Together me and you save plenty of lives.\n",
            "Corrected text:\n",
            " The paragraph below contain spelling errors, referensing mistakes slang, poor sentence structure: it is written in the first person,etc, Edit the paragraph to an acedamicelly suitable piece and email it to your tutor. Ellis Green says that water pollution is a major problem in the world we live in today(green, 2020,9). The says that we need to limit the about of trash that we threw into the ocean and rivers because it is damaging the environment and the plastic in te water is harming the sea animals(Green 9,2020). To make the number of pollution less.we should throw out rubbish in the bin and on the ground, clean up the reaches and use plastic stuff cox it ends up choking the sea turtle. Together me and you save plenty of lives.\n"
          ]
        }
      ]
    },
    {
      "cell_type": "code",
      "source": [
        "s = re.sub(r'[^\\w\\s]','',filecontent)\n",
        "print(\"Text without punctuations:\\n\",s)\n",
        "wordlist=s.split()\n",
        "spell = SpellChecker()\n",
        "# find those words that may be misspelled\n",
        "misspelled = spell.unknown(wordlist)\n",
        "\n",
        "print(\"Possible list of misspelled words in the original text:\\n\",misspelled)\n",
        "#textblob cannot correct all misspellings , some corrections might be meaningless, so its important to find all candidate words\n",
        "for word in misspelled:\n",
        "    # Get the one `most likely` answer\n",
        "    print(\"Correct word:\",spell.correction(word))\n",
        "\n",
        "    # Get a list of `likely` options\n",
        "    print(\"Candidate words:\",spell.candidates(word))\n",
        "\n",
        "#finally overwrite the text file with the corrected text\n",
        "with open(file1,\"w\") as filehandle:\n",
        "    filehandle.write(str(b.correct()))"
      ],
      "metadata": {
        "colab": {
          "base_uri": "https://localhost:8080/"
        },
        "id": "hhVNf5iNfzUN",
        "outputId": "73a7b256-c472-4cdb-af01-e32b6ffa17d8"
      },
      "execution_count": 4,
      "outputs": [
        {
          "output_type": "stream",
          "name": "stdout",
          "text": [
            "Text without punctuations:\n",
            " The paragrph below contian spelling errors referensing mistakes slang poor sentence structue it is written in the frst personetc Edit the paragrpg to an acedamicelly suitable piese and email it to your tutor Ellis Green says that wator pollution is a major probelm in the world we live in todaygreen 20209 She says that we need to limet the amout of trash that we threw into the ocean and rivors becouse it is damaging the envoronmeant and the plastic in te wator is harming the sea animalsGreen 92020 To make the number of pollutoin lesswe should throw out rubbish in the bin and on the ground clen up the beaches and use plastic stuff cox it ends up choking the sea turtles Together me and you save plenty of lives\n",
            "Possible list of misspelled words in the original text:\n",
            " {'piese', 'limet', 'paragrph', 'frst', 'envoronmeant', 'probelm', 'acedamicelly', 'becouse', 'amout', 'lesswe', 'contian', 'pollutoin', 'todaygreen', 'rivors', 'paragrpg', 'animalsgreen', 'personetc', 'clen', 'referensing', 'wator', 'structue'}\n",
            "Correct word: piece\n",
            "Candidate words: {'plese', 'diese', 'piece', 'pies'}\n",
            "Correct word: limit\n",
            "Candidate words: {'limpet', 'limit', 'limey', 'limes', 'lime'}\n",
            "Correct word: paragraph\n",
            "Candidate words: {'paragraph'}\n",
            "Correct word: first\n",
            "Candidate words: {'first', 'frist', 'frat', 'fest', 'frost', 'fret', 'fost', 'irst', 'fast', 'fist'}\n",
            "Correct word: environment\n",
            "Candidate words: {'environment'}\n",
            "Correct word: problem\n",
            "Candidate words: {'problem'}\n",
            "Correct word: None\n",
            "Candidate words: None\n",
            "Correct word: because\n",
            "Candidate words: {'because'}\n",
            "Correct word: about\n",
            "Candidate words: {'amour', 'ahout', 'aout', 'about', 'amount', 'adout'}\n",
            "Correct word: less\n",
            "Candidate words: {'lessen', 'jesse', 'leslie', 'jessie', 'lesson', 'lassie', 'lesser', 'bessie', \"less'n\", 'less', 'esse', 'lease'}\n",
            "Correct word: contain\n",
            "Candidate words: {'contain'}\n",
            "Correct word: pollution\n",
            "Candidate words: {'pollution'}\n",
            "Correct word: None\n",
            "Candidate words: None\n",
            "Correct word: rivers\n",
            "Candidate words: {'rigors', 'rivers'}\n",
            "Correct word: paragraph\n",
            "Candidate words: {'paragraph'}\n",
            "Correct word: None\n",
            "Candidate words: None\n",
            "Correct word: None\n",
            "Candidate words: None\n",
            "Correct word: clean\n",
            "Candidate words: {'glen', 'clem', 'clean', 'cleo', 'chen', 'clew', 'cen', 'clea', 'len', 'clan'}\n",
            "Correct word: referencing\n",
            "Candidate words: {'referencing'}\n",
            "Correct word: water\n",
            "Candidate words: {'water', 'gator'}\n",
            "Correct word: structure\n",
            "Candidate words: {'structure'}\n"
          ]
        }
      ]
    },
    {
      "cell_type": "code",
      "source": [],
      "metadata": {
        "id": "CUH5I4oz0WLs"
      },
      "execution_count": null,
      "outputs": []
    },
    {
      "cell_type": "code",
      "source": [],
      "metadata": {
        "id": "mtEGF5hJ0WFX"
      },
      "execution_count": null,
      "outputs": []
    }
  ]
}